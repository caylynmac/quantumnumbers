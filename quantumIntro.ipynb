{
 "cells": [
  {
   "cell_type": "code",
   "execution_count": null,
   "metadata": {},
   "outputs": [],
   "source": [
    "%pip install qiskit\n",
    "%pip install matplotlib\n",
    "%pip install qiskit-aer\n",
    "%pip install pylatexenc\n"
   ]
  },
  {
   "cell_type": "code",
   "execution_count": 1,
   "metadata": {},
   "outputs": [
    {
     "data": {
      "image/png": "[encoded data removed]",
      "text/plain": [
       "<Figure size 269.064x200.667 with 1 Axes>"
      ]
     },
     "execution_count": 1,
     "metadata": {},
     "output_type": "execute_result"
    }
   ],
   "source": [
    "from qiskit import QuantumCircuit, transpile\n",
    "from qiskit_aer import Aer\n",
    "from qiskit.visualization import plot_histogram\n",
    "\n",
    "# Create your first quantum circuit\n",
    "qc = QuantumCircuit(1, 1)  # 1 qubit, 1 classical bit\n",
    "qc.h(0)  # Apply Hadamard gate\n",
    "qc.measure(0, 0)  # Measure qubit 0 into classical bit 0\n",
    "\n",
    "# Draw the circuit\n",
    "qc.draw('mpl')  # Use 'mpl' for a better visualization\n"
   ]
  },
  {
   "cell_type": "code",
   "execution_count": 2,
   "metadata": {},
   "outputs": [
    {
     "data": {
      "text/html": [
       "<pre style=\"word-wrap: normal;white-space: pre;background: #fff0;line-height: 1.1;font-family: &quot;Courier New&quot;,Courier,monospace\">     ┌───┐┌───┐┌─┐\n",
       "  q: ┤ X ├┤ H ├┤M├\n",
       "     └───┘└───┘└╥┘\n",
       "c: 1/═══════════╩═\n",
       "                0 </pre>"
      ],
      "text/plain": [
       "     ┌───┐┌───┐┌─┐\n",
       "  q: ┤ X ├┤ H ├┤M├\n",
       "     └───┘└───┘└╥┘\n",
       "c: 1/═══════════╩═\n",
       "                0 "
      ]
     },
     "execution_count": 2,
     "metadata": {},
     "output_type": "execute_result"
    }
   ],
   "source": [
    "# Create a circuit to experiment with gates\n",
    "qc = QuantumCircuit(1, 1)\n",
    "\n",
    "# X gate (NOT gate)\n",
    "qc.x(0)\n",
    "\n",
    "# H gate (Hadamard)\n",
    "qc.h(0)\n",
    "\n",
    "# Measure\n",
    "qc.measure(0, 0)\n",
    "\n",
    "# Visualize\n",
    "qc.draw()\n"
   ]
  },
  {
   "cell_type": "code",
   "execution_count": 10,
   "metadata": {},
   "outputs": [
    {
     "name": "stdout",
     "output_type": "stream",
     "text": [
      "{'1': 499, '0': 525}\n"
     ]
    },
    {
     "data": {
      "image/png": "[encoded data removed]",
      "text/plain": [
       "<Figure size 640x480 with 1 Axes>"
      ]
     },
     "execution_count": 10,
     "metadata": {},
     "output_type": "execute_result"
    }
   ],
   "source": [
    "# Create a quantum circuit with 1 qubit and 1 classical bit\n",
    "qc = QuantumCircuit(1, 1)\n",
    "qc.h(0)  # Apply Hadamard gate\n",
    "qc.x(0)  # Apply X gate (NOT gate)\n",
    "qc.measure(0, 0)  # Measure the qubit\n",
    "\n",
    "# Select a quantum simulator backend\n",
    "simulator = Aer.get_backend('qasm_simulator')\n",
    "\n",
    "# Transpile the circuit for the simulator (optimizes for backend)\n",
    "qc_transpiled = transpile(qc, simulator)\n",
    "\n",
    "# Run the transpiled circuit\n",
    "job = simulator.run(qc_transpiled, shots=1024)\n",
    "\n",
    "# Get results\n",
    "results = job.result()\n",
    "counts = results.get_counts()\n",
    "\n",
    "# Print results and show histogram\n",
    "print(counts)\n",
    "plot_histogram(counts)\n"
   ]
  }
 ],
 "metadata": {
  "kernelspec": {
   "display_name": ".venv",
   "language": "python",
   "name": "python3"
  },
  "language_info": {
   "codemirror_mode": {
    "name": "ipython",
    "version": 3
   },
   "file_extension": ".py",
   "mimetype": "text/x-python",
   "name": "python",
   "nbconvert_exporter": "python",
   "pygments_lexer": "ipython3",
   "version": "3.13.2"
  }
 },
 "nbformat": 4,
 "nbformat_minor": 2
}
