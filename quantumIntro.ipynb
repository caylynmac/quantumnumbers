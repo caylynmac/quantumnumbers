{
 "cells": [
  {
   "cell_type": "code",
   "execution_count": null,
   "metadata": {},
   "outputs": [],
   "source": [
    "%pip install qiskit\n",
    "%pip install matplotlib\n",
    "%pip install qiskit-aer\n",
    "%pip install pylatexenc\n"
   ]
  },
  {
   "cell_type": "code",
   "execution_count": 1,
   "metadata": {},
   "outputs": [
    {
     "data": {
      "image/png": "[encoded data removed]",
      "text/plain": [
       "<Figure size 269.064x200.667 with 1 Axes>"
      ]
     },
     "execution_count": 1,
     "metadata": {},
     "output_type": "execute_result"
    }
   ],
   "source": [
    "from qiskit import QuantumCircuit, transpile\n",
    "from qiskit_aer import Aer\n",
    "from qiskit.visualization import plot_histogram\n",
    "\n",
    "# Create your first quantum circuit\n",
    "qc = QuantumCircuit(1, 1)  # 1 qubit, 1 classical bit\n",
    "qc.h(0)  # Apply Hadamard gate\n",
    "qc.measure(0, 0)  # Measure qubit 0 into classical bit 0\n",
    "\n",
    "# Draw the circuit\n",
    "qc.draw('mpl')  # Use 'mpl' for a better visualization\n"
   ]
  },
  {
   "cell_type": "code",
   "execution_count": 2,
   "metadata": {},
   "outputs": [
    {
     "data": {
      "text/html": [
       "<pre style=\"word-wrap: normal;white-space: pre;background: #fff0;line-height: 1.1;font-family: &quot;Courier New&quot;,Courier,monospace\">     ┌───┐┌───┐┌─┐\n",
       "  q: ┤ X ├┤ H ├┤M├\n",
       "     └───┘└───┘└╥┘\n",
       "c: 1/═══════════╩═\n",
       "                0 </pre>"
      ],
      "text/plain": [
       "     ┌───┐┌───┐┌─┐\n",
       "  q: ┤ X ├┤ H ├┤M├\n",
       "     └───┘└───┘└╥┘\n",
       "c: 1/═══════════╩═\n",
       "                0 "
      ]
     },
     "execution_count": 2,
     "metadata": {},
     "output_type": "execute_result"
    }
   ],
   "source": [
    "# Create a circuit to experiment with gates\n",
    "qc = QuantumCircuit(1, 1)\n",
    "\n",
    "# X gate (NOT gate)\n",
    "qc.x(0)\n",
    "\n",
    "# H gate (Hadamard)\n",
    "qc.h(0)\n",
    "\n",
    "# Measure\n",
    "qc.measure(0, 0)\n",
    "\n",
    "# Visualize\n",
    "qc.draw()\n"
   ]
  },
  {
   "cell_type": "code",
   "execution_count": 9,
   "metadata": {},
   "outputs": [
    {
     "name": "stdout",
     "output_type": "stream",
     "text": [
      "{'0': 512, '1': 512}\n"
     ]
    },
    {
     "data": {
      "image/png": "[encoded data removed]",
      "text/plain": [
       "<Figure size 640x480 with 1 Axes>"
      ]
     },
     "execution_count": 9,
     "metadata": {},
     "output_type": "execute_result"
    }
   ],
   "source": [
    "# Create a quantum circuit with 1 qubit and 1 classical bit\n",
    "qc = QuantumCircuit(1, 1)\n",
    "qc.h(0)  # Apply Hadamard gate\n",
    "qc.x(0)  # Apply X gate (NOT gate)\n",
    "qc.measure(0, 0)  # Measure the qubit\n",
    "\n",
    "# Select a quantum simulator backend\n",
    "simulator = Aer.get_backend('qasm_simulator')\n",
    "\n",
    "# Transpile the circuit for the simulator (optimizes for backend)\n",
    "qc_transpiled = transpile(qc, simulator)\n",
    "\n",
    "# Run the transpiled circuit\n",
    "job = simulator.run(qc_transpiled, shots=1024)\n",
    "\n",
    "# Get results\n",
    "results = job.result()\n",
    "counts = results.get_counts()\n",
    "\n",
    "# Print results and show histogram\n",
    "print(counts)\n",
    "plot_histogram(counts)\n",
    "\n"
   ]
  },
  {
   "cell_type": "code",
   "execution_count": 10,
   "metadata": {},
   "outputs": [
    {
     "name": "stdout",
     "output_type": "stream",
     "text": [
      "[1, 0, 1, 0, 0, 0, 1, 1, 1, 1]\n"
     ]
    }
   ],
   "source": [
    "def generate_random_bit():\n",
    "    qc = QuantumCircuit(1, 1)\n",
    "    qc.h(0)\n",
    "    qc.measure(0, 0)\n",
    "    \n",
    "    simulator = Aer.get_backend('qasm_simulator')\n",
    "\n",
    "    qc_transpiled = transpile(qc, simulator)\n",
    "\n",
    "    job = simulator.run(qc_transpiled, shots=1024)\n",
    "\n",
    "    # Get results\n",
    "    results = job.result()\n",
    "    counts = results.get_counts()\n",
    "    return int(list(counts.keys())[0])\n",
    "   \n",
    "# Generate 10 random bits\n",
    "random_bits = [generate_random_bit() for _ in range(10)]\n",
    "print(random_bits)"
   ]
  },
  {
   "cell_type": "code",
   "execution_count": 59,
   "metadata": {},
   "outputs": [
    {
     "name": "stdout",
     "output_type": "stream",
     "text": [
      "Random number: 15\n"
     ]
    }
   ],
   "source": [
    "from qiskit import QuantumCircuit, transpile\n",
    "from qiskit_aer import Aer\n",
    "from qiskit.visualization import plot_histogram\n",
    "\n",
    "def generate_random_number(num_qubits):\n",
    "    # Create a quantum circuit with the specified number of qubits and classical bits\n",
    "    qc = QuantumCircuit(num_qubits, num_qubits)\n",
    "    \n",
    "    # Apply Hadamard gate to all qubits to create superposition\n",
    "    for qubit in range(num_qubits):\n",
    "        qc.h(qubit)\n",
    "        # qc.t(qubit) # Apply T gate to introduce a phase shift\n",
    "        # qc.cx(qubit, (qubit + 1) % num_qubits)  # Apply CNOT gate to entangle qubits\n",
    "\n",
    "\n",
    "    # Measure all qubits\n",
    "    qc.measure(range(num_qubits), range(num_qubits))\n",
    "    \n",
    "\n",
    "    # Select a quantum simulator backend\n",
    "    simulator = Aer.get_backend('qasm_simulator')\n",
    "    \n",
    "    # Transpile the circuit for the simulator\n",
    "    qc_transpiled = transpile(qc, simulator)\n",
    "    \n",
    "    # Run the transpiled circuit\n",
    "    job = simulator.run(qc_transpiled, shots=1)  # Only 1 shot needed for a single random number\n",
    "    \n",
    "    # Get results\n",
    "    results = job.result()\n",
    "    counts = results.get_counts()\n",
    "    \n",
    "    # Extract the binary result and convert to decimal\n",
    "    random_binary = list(counts.keys())[0]\n",
    "    random_number = int(random_binary, 2)\n",
    "    \n",
    "    return random_number #,qc\n",
    "\n",
    "\n",
    "\n",
    "# Generate a random number using 4 qubits\n",
    "random_number = generate_random_number(4) #,qc\n",
    "#qc.draw('mpl')\n",
    "print(f\"Random number: {random_number}\")"
   ]
  },
  {
   "cell_type": "code",
   "execution_count": 72,
   "metadata": {},
   "outputs": [
    {
     "data": {
      "image/png": "[encoded data removed]",
      "text/plain": [
       "<Figure size 640x480 with 1 Axes>"
      ]
     },
     "metadata": {},
     "output_type": "display_data"
    }
   ],
   "source": [
    "import matplotlib.pyplot as plt\n",
    "from collections import Counter\n",
    "\n",
    "# Generate multiple random numbers and store them\n",
    "def generate_random_numbers(num_qubits, num_samples):\n",
    "    random_numbers = []\n",
    "    for _ in range(num_samples):\n",
    "        random_numbers.append(generate_random_number(num_qubits))\n",
    "    return random_numbers\n",
    "\n",
    "# Generate 100 random numbers using 4 qubits\n",
    "num_qubits = 8\n",
    "num_samples = 100\n",
    "random_numbers = generate_random_numbers(num_qubits, num_samples)\n",
    "\n",
    "# Count occurrences of each random number\n",
    "counts = Counter(random_numbers)\n",
    "\n",
    "# Plot the histogram\n",
    "plt.bar(counts.keys(), counts.values(), color='blue')\n",
    "plt.xlabel('Random Number')\n",
    "plt.ylabel('Frequency')\n",
    "plt.title(f'Histogram of {num_samples} Random Numbers (using {num_qubits} qubits)')\n",
    "plt.show()"
   ]
  },
  {
   "cell_type": "code",
   "execution_count": 75,
   "metadata": {},
   "outputs": [
    {
     "name": "stdout",
     "output_type": "stream",
     "text": [
      "Mean: 140.85\n",
      "Standard Deviation: 74.77852298621578\n"
     ]
    }
   ],
   "source": [
    "import numpy as np\n",
    "import matplotlib.pyplot as plt\n",
    "from collections import Counter\n",
    "\n",
    "# Generate multiple random numbers and store them\n",
    "def generate_random_numbers(num_qubits, num_samples):\n",
    "    random_numbers = []\n",
    "    for _ in range(num_samples):\n",
    "        random_numbers.append(generate_random_number(num_qubits))\n",
    "    return random_numbers\n",
    "\n",
    "# Generate 100 random numbers using 4 qubits\n",
    "num_qubits = 8\n",
    "num_samples = 100\n",
    "random_numbers = generate_random_numbers(num_qubits, num_samples)\n",
    "\n",
    "# Calculate mean and standard deviation\n",
    "mean = np.mean(random_numbers)\n",
    "std_dev = np.std(random_numbers)\n",
    "\n",
    "print(f\"Mean: {mean}\")\n",
    "print(f\"Standard Deviation: {std_dev}\")\n",
    "\n",
    "# Count occurrences of each random number\n",
    "counts = Counter(random_numbers)\n"
   ]
  },
  {
   "cell_type": "code",
   "execution_count": 77,
   "metadata": {},
   "outputs": [
    {
     "name": "stdout",
     "output_type": "stream",
     "text": [
      "Quantum RNG - Mean: 128.93, Std Dev: 76.97379489150838\n",
      "Classical RNG - Mean: 134.93, Std Dev: 76.98847381264288\n"
     ]
    },
    {
     "data": {
      "image/png": "[encoded data removed]",
      "text/plain": [
       "<Figure size 1200x600 with 2 Axes>"
      ]
     },
     "metadata": {},
     "output_type": "display_data"
    }
   ],
   "source": [
    "\n",
    "import random\n",
    "\n",
    "# Generate random numbers using Python's random library\n",
    "def generate_classical_random_numbers(num_samples, max_value):\n",
    "    return [random.randint(0, max_value) for _ in range(num_samples)]\n",
    "\n",
    "# Parameters\n",
    "num_qubits = 8\n",
    "num_samples = 100\n",
    "max_value = (2 ** num_qubits) - 1  # Maximum value for the given number of qubits\n",
    "\n",
    "# Generate random numbers using quantum and classical methods\n",
    "quantum_random_numbers = generate_random_numbers(num_qubits, num_samples)\n",
    "classical_random_numbers = generate_classical_random_numbers(num_samples, max_value)\n",
    "\n",
    "# Calculate mean and standard deviation for both methods\n",
    "quantum_mean = np.mean(quantum_random_numbers)\n",
    "quantum_std_dev = np.std(quantum_random_numbers)\n",
    "\n",
    "classical_mean = np.mean(classical_random_numbers)\n",
    "classical_std_dev = np.std(classical_random_numbers)\n",
    "\n",
    "print(f\"Quantum RNG - Mean: {quantum_mean}, Std Dev: {quantum_std_dev}\")\n",
    "print(f\"Classical RNG - Mean: {classical_mean}, Std Dev: {classical_std_dev}\")\n",
    "\n",
    "# Plot histograms for comparison\n",
    "plt.figure(figsize=(12, 6))\n",
    "\n",
    "# Quantum RNG histogram\n",
    "plt.subplot(1, 2, 1)\n",
    "quantum_counts = Counter(quantum_random_numbers)\n",
    "plt.bar(quantum_counts.keys(), quantum_counts.values(), color='blue')\n",
    "plt.xlabel('Random Number')\n",
    "plt.ylabel('Frequency')\n",
    "plt.title('Quantum RNG Histogram')\n",
    "\n",
    "# Classical RNG histogram\n",
    "plt.subplot(1, 2, 2)\n",
    "classical_counts = Counter(classical_random_numbers)\n",
    "plt.bar(classical_counts.keys(), classical_counts.values(), color='green')\n",
    "plt.xlabel('Random Number')\n",
    "plt.ylabel('Frequency')\n",
    "plt.title('Classical RNG Histogram')\n",
    "\n",
    "plt.tight_layout()\n",
    "plt.show()"
   ]
  }
 ],
 "metadata": {
  "kernelspec": {
   "display_name": ".venv",
   "language": "python",
   "name": "python3"
  },
  "language_info": {
   "codemirror_mode": {
    "name": "ipython",
    "version": 3
   },
   "file_extension": ".py",
   "mimetype": "text/x-python",
   "name": "python",
   "nbconvert_exporter": "python",
   "pygments_lexer": "ipython3",
   "version": "3.13.3"
  }
 },
 "nbformat": 4,
 "nbformat_minor": 2
}
