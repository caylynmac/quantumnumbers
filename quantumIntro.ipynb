{
 "cells": [
  {
   "cell_type": "code",
   "execution_count": 14,
   "metadata": {},
   "outputs": [
    {
     "name": "stdout",
     "output_type": "stream",
     "text": [
      "Requirement already satisfied: qiskit in c:\\users\\cayly\\documents\\classes\\intp302\\quantumnumbers\\.venv\\lib\\site-packages (1.4.2)\n",
      "Requirement already satisfied: rustworkx>=0.15.0 in c:\\users\\cayly\\documents\\classes\\intp302\\quantumnumbers\\.venv\\lib\\site-packages (from qiskit) (0.16.0)\n",
      "Requirement already satisfied: numpy<3,>=1.17 in c:\\users\\cayly\\documents\\classes\\intp302\\quantumnumbers\\.venv\\lib\\site-packages (from qiskit) (2.2.4)\n",
      "Requirement already satisfied: scipy>=1.5 in c:\\users\\cayly\\documents\\classes\\intp302\\quantumnumbers\\.venv\\lib\\site-packages (from qiskit) (1.15.2)\n",
      "Requirement already satisfied: sympy>=1.3 in c:\\users\\cayly\\documents\\classes\\intp302\\quantumnumbers\\.venv\\lib\\site-packages (from qiskit) (1.13.3)\n",
      "Requirement already satisfied: dill>=0.3 in c:\\users\\cayly\\documents\\classes\\intp302\\quantumnumbers\\.venv\\lib\\site-packages (from qiskit) (0.3.9)\n",
      "Requirement already satisfied: python-dateutil>=2.8.0 in c:\\users\\cayly\\documents\\classes\\intp302\\quantumnumbers\\.venv\\lib\\site-packages (from qiskit) (2.9.0.post0)\n",
      "Requirement already satisfied: stevedore>=3.0.0 in c:\\users\\cayly\\documents\\classes\\intp302\\quantumnumbers\\.venv\\lib\\site-packages (from qiskit) (5.4.1)\n",
      "Requirement already satisfied: typing-extensions in c:\\users\\cayly\\documents\\classes\\intp302\\quantumnumbers\\.venv\\lib\\site-packages (from qiskit) (4.13.0)\n",
      "Requirement already satisfied: symengine<0.14,>=0.11 in c:\\users\\cayly\\documents\\classes\\intp302\\quantumnumbers\\.venv\\lib\\site-packages (from qiskit) (0.13.0)\n",
      "Requirement already satisfied: six>=1.5 in c:\\users\\cayly\\documents\\classes\\intp302\\quantumnumbers\\.venv\\lib\\site-packages (from python-dateutil>=2.8.0->qiskit) (1.17.0)\n",
      "Requirement already satisfied: pbr>=2.0.0 in c:\\users\\cayly\\documents\\classes\\intp302\\quantumnumbers\\.venv\\lib\\site-packages (from stevedore>=3.0.0->qiskit) (6.1.1)\n",
      "Requirement already satisfied: mpmath<1.4,>=1.1.0 in c:\\users\\cayly\\documents\\classes\\intp302\\quantumnumbers\\.venv\\lib\\site-packages (from sympy>=1.3->qiskit) (1.3.0)\n",
      "Requirement already satisfied: setuptools in c:\\users\\cayly\\documents\\classes\\intp302\\quantumnumbers\\.venv\\lib\\site-packages (from pbr>=2.0.0->stevedore>=3.0.0->qiskit) (78.1.0)\n",
      "Note: you may need to restart the kernel to use updated packages.\n",
      "Requirement already satisfied: matplotlib in c:\\users\\cayly\\documents\\classes\\intp302\\quantumnumbers\\.venv\\lib\\site-packages (3.10.1)\n",
      "Requirement already satisfied: contourpy>=1.0.1 in c:\\users\\cayly\\documents\\classes\\intp302\\quantumnumbers\\.venv\\lib\\site-packages (from matplotlib) (1.3.1)\n",
      "Requirement already satisfied: cycler>=0.10 in c:\\users\\cayly\\documents\\classes\\intp302\\quantumnumbers\\.venv\\lib\\site-packages (from matplotlib) (0.12.1)\n",
      "Requirement already satisfied: fonttools>=4.22.0 in c:\\users\\cayly\\documents\\classes\\intp302\\quantumnumbers\\.venv\\lib\\site-packages (from matplotlib) (4.56.0)\n",
      "Requirement already satisfied: kiwisolver>=1.3.1 in c:\\users\\cayly\\documents\\classes\\intp302\\quantumnumbers\\.venv\\lib\\site-packages (from matplotlib) (1.4.8)\n",
      "Requirement already satisfied: numpy>=1.23 in c:\\users\\cayly\\documents\\classes\\intp302\\quantumnumbers\\.venv\\lib\\site-packages (from matplotlib) (2.2.4)\n",
      "Requirement already satisfied: packaging>=20.0 in c:\\users\\cayly\\documents\\classes\\intp302\\quantumnumbers\\.venv\\lib\\site-packages (from matplotlib) (24.2)\n",
      "Requirement already satisfied: pillow>=8 in c:\\users\\cayly\\documents\\classes\\intp302\\quantumnumbers\\.venv\\lib\\site-packages (from matplotlib) (11.1.0)\n",
      "Requirement already satisfied: pyparsing>=2.3.1 in c:\\users\\cayly\\documents\\classes\\intp302\\quantumnumbers\\.venv\\lib\\site-packages (from matplotlib) (3.2.3)\n",
      "Requirement already satisfied: python-dateutil>=2.7 in c:\\users\\cayly\\documents\\classes\\intp302\\quantumnumbers\\.venv\\lib\\site-packages (from matplotlib) (2.9.0.post0)\n",
      "Requirement already satisfied: six>=1.5 in c:\\users\\cayly\\documents\\classes\\intp302\\quantumnumbers\\.venv\\lib\\site-packages (from python-dateutil>=2.7->matplotlib) (1.17.0)\n",
      "Note: you may need to restart the kernel to use updated packages.\n",
      "Requirement already satisfied: qiskit-aer in c:\\users\\cayly\\documents\\classes\\intp302\\quantumnumbers\\.venv\\lib\\site-packages (0.17.0)\n",
      "Requirement already satisfied: qiskit>=1.1.0 in c:\\users\\cayly\\documents\\classes\\intp302\\quantumnumbers\\.venv\\lib\\site-packages (from qiskit-aer) (1.4.2)\n",
      "Requirement already satisfied: numpy>=1.16.3 in c:\\users\\cayly\\documents\\classes\\intp302\\quantumnumbers\\.venv\\lib\\site-packages (from qiskit-aer) (2.2.4)\n",
      "Requirement already satisfied: scipy>=1.0 in c:\\users\\cayly\\documents\\classes\\intp302\\quantumnumbers\\.venv\\lib\\site-packages (from qiskit-aer) (1.15.2)\n",
      "Requirement already satisfied: psutil>=5 in c:\\users\\cayly\\documents\\classes\\intp302\\quantumnumbers\\.venv\\lib\\site-packages (from qiskit-aer) (7.0.0)\n",
      "Requirement already satisfied: rustworkx>=0.15.0 in c:\\users\\cayly\\documents\\classes\\intp302\\quantumnumbers\\.venv\\lib\\site-packages (from qiskit>=1.1.0->qiskit-aer) (0.16.0)\n",
      "Requirement already satisfied: sympy>=1.3 in c:\\users\\cayly\\documents\\classes\\intp302\\quantumnumbers\\.venv\\lib\\site-packages (from qiskit>=1.1.0->qiskit-aer) (1.13.3)\n",
      "Requirement already satisfied: dill>=0.3 in c:\\users\\cayly\\documents\\classes\\intp302\\quantumnumbers\\.venv\\lib\\site-packages (from qiskit>=1.1.0->qiskit-aer) (0.3.9)\n",
      "Requirement already satisfied: python-dateutil>=2.8.0 in c:\\users\\cayly\\documents\\classes\\intp302\\quantumnumbers\\.venv\\lib\\site-packages (from qiskit>=1.1.0->qiskit-aer) (2.9.0.post0)\n",
      "Requirement already satisfied: stevedore>=3.0.0 in c:\\users\\cayly\\documents\\classes\\intp302\\quantumnumbers\\.venv\\lib\\site-packages (from qiskit>=1.1.0->qiskit-aer) (5.4.1)\n",
      "Requirement already satisfied: typing-extensions in c:\\users\\cayly\\documents\\classes\\intp302\\quantumnumbers\\.venv\\lib\\site-packages (from qiskit>=1.1.0->qiskit-aer) (4.13.0)\n",
      "Requirement already satisfied: symengine<0.14,>=0.11 in c:\\users\\cayly\\documents\\classes\\intp302\\quantumnumbers\\.venv\\lib\\site-packages (from qiskit>=1.1.0->qiskit-aer) (0.13.0)\n",
      "Requirement already satisfied: six>=1.5 in c:\\users\\cayly\\documents\\classes\\intp302\\quantumnumbers\\.venv\\lib\\site-packages (from python-dateutil>=2.8.0->qiskit>=1.1.0->qiskit-aer) (1.17.0)\n",
      "Requirement already satisfied: pbr>=2.0.0 in c:\\users\\cayly\\documents\\classes\\intp302\\quantumnumbers\\.venv\\lib\\site-packages (from stevedore>=3.0.0->qiskit>=1.1.0->qiskit-aer) (6.1.1)\n",
      "Requirement already satisfied: mpmath<1.4,>=1.1.0 in c:\\users\\cayly\\documents\\classes\\intp302\\quantumnumbers\\.venv\\lib\\site-packages (from sympy>=1.3->qiskit>=1.1.0->qiskit-aer) (1.3.0)\n",
      "Requirement already satisfied: setuptools in c:\\users\\cayly\\documents\\classes\\intp302\\quantumnumbers\\.venv\\lib\\site-packages (from pbr>=2.0.0->stevedore>=3.0.0->qiskit>=1.1.0->qiskit-aer) (78.1.0)\n",
      "Note: you may need to restart the kernel to use updated packages.\n"
     ]
    }
   ],
   "source": [
    "%pip install qiskit\n",
    "%pip install matplotlib\n",
    "%pip install qiskit-aer\n"
   ]
  },
  {
   "cell_type": "code",
   "execution_count": 15,
   "metadata": {},
   "outputs": [
    {
     "ename": "MissingOptionalLibraryError",
     "evalue": "\"The 'matplotlib' library is required to use 'MatplotlibDrawer'. You can install it with 'pip install matplotlib'.\"",
     "output_type": "error",
     "traceback": [
      "\u001b[31m---------------------------------------------------------------------------\u001b[39m",
      "\u001b[31mMissingOptionalLibraryError\u001b[39m               Traceback (most recent call last)",
      "\u001b[36mCell\u001b[39m\u001b[36m \u001b[39m\u001b[32mIn[15]\u001b[39m\u001b[32m, line 11\u001b[39m\n\u001b[32m      8\u001b[39m qc.measure(\u001b[32m0\u001b[39m, \u001b[32m0\u001b[39m)  \u001b[38;5;66;03m# Measure qubit 0 into classical bit 0\u001b[39;00m\n\u001b[32m     10\u001b[39m \u001b[38;5;66;03m# Draw the circuit\u001b[39;00m\n\u001b[32m---> \u001b[39m\u001b[32m11\u001b[39m \u001b[43mqc\u001b[49m\u001b[43m.\u001b[49m\u001b[43mdraw\u001b[49m\u001b[43m(\u001b[49m\u001b[33;43m'\u001b[39;49m\u001b[33;43mmpl\u001b[39;49m\u001b[33;43m'\u001b[39;49m\u001b[43m)\u001b[49m  \u001b[38;5;66;03m# Use 'mpl' for a better visualization\u001b[39;00m\n",
      "\u001b[36mFile \u001b[39m\u001b[32mc:\\Users\\Cayly\\Documents\\classes\\intp302\\quantumnumbers\\.venv\\Lib\\site-packages\\qiskit\\circuit\\quantumcircuit.py:3428\u001b[39m, in \u001b[36mQuantumCircuit.draw\u001b[39m\u001b[34m(self, output, scale, filename, style, interactive, plot_barriers, reverse_bits, justify, vertical_compression, idle_wires, with_layout, fold, ax, initial_state, cregbundle, wire_order, expr_len)\u001b[39m\n\u001b[32m   3425\u001b[39m \u001b[38;5;66;03m# pylint: disable=cyclic-import\u001b[39;00m\n\u001b[32m   3426\u001b[39m \u001b[38;5;28;01mfrom\u001b[39;00m\u001b[38;5;250m \u001b[39m\u001b[34;01mqiskit\u001b[39;00m\u001b[34;01m.\u001b[39;00m\u001b[34;01mvisualization\u001b[39;00m\u001b[38;5;250m \u001b[39m\u001b[38;5;28;01mimport\u001b[39;00m circuit_drawer\n\u001b[32m-> \u001b[39m\u001b[32m3428\u001b[39m \u001b[38;5;28;01mreturn\u001b[39;00m \u001b[43mcircuit_drawer\u001b[49m\u001b[43m(\u001b[49m\n\u001b[32m   3429\u001b[39m \u001b[43m    \u001b[49m\u001b[38;5;28;43mself\u001b[39;49m\u001b[43m,\u001b[49m\n\u001b[32m   3430\u001b[39m \u001b[43m    \u001b[49m\u001b[43mscale\u001b[49m\u001b[43m=\u001b[49m\u001b[43mscale\u001b[49m\u001b[43m,\u001b[49m\n\u001b[32m   3431\u001b[39m \u001b[43m    \u001b[49m\u001b[43mfilename\u001b[49m\u001b[43m=\u001b[49m\u001b[43mfilename\u001b[49m\u001b[43m,\u001b[49m\n\u001b[32m   3432\u001b[39m \u001b[43m    \u001b[49m\u001b[43mstyle\u001b[49m\u001b[43m=\u001b[49m\u001b[43mstyle\u001b[49m\u001b[43m,\u001b[49m\n\u001b[32m   3433\u001b[39m \u001b[43m    \u001b[49m\u001b[43moutput\u001b[49m\u001b[43m=\u001b[49m\u001b[43moutput\u001b[49m\u001b[43m,\u001b[49m\n\u001b[32m   3434\u001b[39m \u001b[43m    \u001b[49m\u001b[43minteractive\u001b[49m\u001b[43m=\u001b[49m\u001b[43minteractive\u001b[49m\u001b[43m,\u001b[49m\n\u001b[32m   3435\u001b[39m \u001b[43m    \u001b[49m\u001b[43mplot_barriers\u001b[49m\u001b[43m=\u001b[49m\u001b[43mplot_barriers\u001b[49m\u001b[43m,\u001b[49m\n\u001b[32m   3436\u001b[39m \u001b[43m    \u001b[49m\u001b[43mreverse_bits\u001b[49m\u001b[43m=\u001b[49m\u001b[43mreverse_bits\u001b[49m\u001b[43m,\u001b[49m\n\u001b[32m   3437\u001b[39m \u001b[43m    \u001b[49m\u001b[43mjustify\u001b[49m\u001b[43m=\u001b[49m\u001b[43mjustify\u001b[49m\u001b[43m,\u001b[49m\n\u001b[32m   3438\u001b[39m \u001b[43m    \u001b[49m\u001b[43mvertical_compression\u001b[49m\u001b[43m=\u001b[49m\u001b[43mvertical_compression\u001b[49m\u001b[43m,\u001b[49m\n\u001b[32m   3439\u001b[39m \u001b[43m    \u001b[49m\u001b[43midle_wires\u001b[49m\u001b[43m=\u001b[49m\u001b[43midle_wires\u001b[49m\u001b[43m,\u001b[49m\n\u001b[32m   3440\u001b[39m \u001b[43m    \u001b[49m\u001b[43mwith_layout\u001b[49m\u001b[43m=\u001b[49m\u001b[43mwith_layout\u001b[49m\u001b[43m,\u001b[49m\n\u001b[32m   3441\u001b[39m \u001b[43m    \u001b[49m\u001b[43mfold\u001b[49m\u001b[43m=\u001b[49m\u001b[43mfold\u001b[49m\u001b[43m,\u001b[49m\n\u001b[32m   3442\u001b[39m \u001b[43m    \u001b[49m\u001b[43max\u001b[49m\u001b[43m=\u001b[49m\u001b[43max\u001b[49m\u001b[43m,\u001b[49m\n\u001b[32m   3443\u001b[39m \u001b[43m    \u001b[49m\u001b[43minitial_state\u001b[49m\u001b[43m=\u001b[49m\u001b[43minitial_state\u001b[49m\u001b[43m,\u001b[49m\n\u001b[32m   3444\u001b[39m \u001b[43m    \u001b[49m\u001b[43mcregbundle\u001b[49m\u001b[43m=\u001b[49m\u001b[43mcregbundle\u001b[49m\u001b[43m,\u001b[49m\n\u001b[32m   3445\u001b[39m \u001b[43m    \u001b[49m\u001b[43mwire_order\u001b[49m\u001b[43m=\u001b[49m\u001b[43mwire_order\u001b[49m\u001b[43m,\u001b[49m\n\u001b[32m   3446\u001b[39m \u001b[43m    \u001b[49m\u001b[43mexpr_len\u001b[49m\u001b[43m=\u001b[49m\u001b[43mexpr_len\u001b[49m\u001b[43m,\u001b[49m\n\u001b[32m   3447\u001b[39m \u001b[43m\u001b[49m\u001b[43m)\u001b[49m\n",
      "\u001b[36mFile \u001b[39m\u001b[32mc:\\Users\\Cayly\\Documents\\classes\\intp302\\quantumnumbers\\.venv\\Lib\\site-packages\\qiskit\\visualization\\circuit\\circuit_visualization.py:332\u001b[39m, in \u001b[36mcircuit_drawer\u001b[39m\u001b[34m(circuit, scale, filename, style, output, interactive, plot_barriers, reverse_bits, justify, vertical_compression, idle_wires, with_layout, fold, ax, initial_state, cregbundle, wire_order, expr_len)\u001b[39m\n\u001b[32m    317\u001b[39m     \u001b[38;5;28;01mreturn\u001b[39;00m _generate_latex_source(\n\u001b[32m    318\u001b[39m         circuit,\n\u001b[32m    319\u001b[39m         filename=filename,\n\u001b[32m   (...)\u001b[39m\u001b[32m    329\u001b[39m         wire_order=complete_wire_order,\n\u001b[32m    330\u001b[39m     )\n\u001b[32m    331\u001b[39m \u001b[38;5;28;01melif\u001b[39;00m output == \u001b[33m\"\u001b[39m\u001b[33mmpl\u001b[39m\u001b[33m\"\u001b[39m:\n\u001b[32m--> \u001b[39m\u001b[32m332\u001b[39m     image = \u001b[43m_matplotlib_circuit_drawer\u001b[49m\u001b[43m(\u001b[49m\n\u001b[32m    333\u001b[39m \u001b[43m        \u001b[49m\u001b[43mcircuit\u001b[49m\u001b[43m,\u001b[49m\n\u001b[32m    334\u001b[39m \u001b[43m        \u001b[49m\u001b[43mscale\u001b[49m\u001b[43m=\u001b[49m\u001b[43mscale\u001b[49m\u001b[43m,\u001b[49m\n\u001b[32m    335\u001b[39m \u001b[43m        \u001b[49m\u001b[43mfilename\u001b[49m\u001b[43m=\u001b[49m\u001b[43mfilename\u001b[49m\u001b[43m,\u001b[49m\n\u001b[32m    336\u001b[39m \u001b[43m        \u001b[49m\u001b[43mstyle\u001b[49m\u001b[43m=\u001b[49m\u001b[43mstyle\u001b[49m\u001b[43m,\u001b[49m\n\u001b[32m    337\u001b[39m \u001b[43m        \u001b[49m\u001b[43mplot_barriers\u001b[49m\u001b[43m=\u001b[49m\u001b[43mplot_barriers\u001b[49m\u001b[43m,\u001b[49m\n\u001b[32m    338\u001b[39m \u001b[43m        \u001b[49m\u001b[43mreverse_bits\u001b[49m\u001b[43m=\u001b[49m\u001b[43mreverse_bits\u001b[49m\u001b[43m,\u001b[49m\n\u001b[32m    339\u001b[39m \u001b[43m        \u001b[49m\u001b[43mjustify\u001b[49m\u001b[43m=\u001b[49m\u001b[43mjustify\u001b[49m\u001b[43m,\u001b[49m\n\u001b[32m    340\u001b[39m \u001b[43m        \u001b[49m\u001b[43midle_wires\u001b[49m\u001b[43m=\u001b[49m\u001b[43midle_wires\u001b[49m\u001b[43m,\u001b[49m\n\u001b[32m    341\u001b[39m \u001b[43m        \u001b[49m\u001b[43mwith_layout\u001b[49m\u001b[43m=\u001b[49m\u001b[43mwith_layout\u001b[49m\u001b[43m,\u001b[49m\n\u001b[32m    342\u001b[39m \u001b[43m        \u001b[49m\u001b[43mfold\u001b[49m\u001b[43m=\u001b[49m\u001b[43mfold\u001b[49m\u001b[43m,\u001b[49m\n\u001b[32m    343\u001b[39m \u001b[43m        \u001b[49m\u001b[43max\u001b[49m\u001b[43m=\u001b[49m\u001b[43max\u001b[49m\u001b[43m,\u001b[49m\n\u001b[32m    344\u001b[39m \u001b[43m        \u001b[49m\u001b[43minitial_state\u001b[49m\u001b[43m=\u001b[49m\u001b[43minitial_state\u001b[49m\u001b[43m,\u001b[49m\n\u001b[32m    345\u001b[39m \u001b[43m        \u001b[49m\u001b[43mcregbundle\u001b[49m\u001b[43m=\u001b[49m\u001b[43mcregbundle\u001b[49m\u001b[43m,\u001b[49m\n\u001b[32m    346\u001b[39m \u001b[43m        \u001b[49m\u001b[43mwire_order\u001b[49m\u001b[43m=\u001b[49m\u001b[43mcomplete_wire_order\u001b[49m\u001b[43m,\u001b[49m\n\u001b[32m    347\u001b[39m \u001b[43m        \u001b[49m\u001b[43mexpr_len\u001b[49m\u001b[43m=\u001b[49m\u001b[43mexpr_len\u001b[49m\u001b[43m,\u001b[49m\n\u001b[32m    348\u001b[39m \u001b[43m    \u001b[49m\u001b[43m)\u001b[49m\n\u001b[32m    349\u001b[39m \u001b[38;5;28;01melse\u001b[39;00m:\n\u001b[32m    350\u001b[39m     \u001b[38;5;28;01mraise\u001b[39;00m VisualizationError(\n\u001b[32m    351\u001b[39m         \u001b[33mf\u001b[39m\u001b[33m\"\u001b[39m\u001b[33mInvalid output type \u001b[39m\u001b[38;5;132;01m{\u001b[39;00moutput\u001b[38;5;132;01m}\u001b[39;00m\u001b[33m selected. The only valid choices \u001b[39m\u001b[33m\"\u001b[39m\n\u001b[32m    352\u001b[39m         \u001b[33m\"\u001b[39m\u001b[33mare text, latex, latex_source, and mpl\u001b[39m\u001b[33m\"\u001b[39m\n\u001b[32m    353\u001b[39m     )\n",
      "\u001b[36mFile \u001b[39m\u001b[32mc:\\Users\\Cayly\\Documents\\classes\\intp302\\quantumnumbers\\.venv\\Lib\\site-packages\\qiskit\\visualization\\circuit\\circuit_visualization.py:712\u001b[39m, in \u001b[36m_matplotlib_circuit_drawer\u001b[39m\u001b[34m(circuit, scale, filename, style, plot_barriers, reverse_bits, justify, idle_wires, with_layout, fold, ax, initial_state, cregbundle, wire_order, expr_len)\u001b[39m\n\u001b[32m    709\u001b[39m \u001b[38;5;28;01mif\u001b[39;00m fold \u001b[38;5;129;01mis\u001b[39;00m \u001b[38;5;28;01mNone\u001b[39;00m:\n\u001b[32m    710\u001b[39m     fold = \u001b[32m25\u001b[39m\n\u001b[32m--> \u001b[39m\u001b[32m712\u001b[39m qcd = \u001b[43m_matplotlib\u001b[49m\u001b[43m.\u001b[49m\u001b[43mMatplotlibDrawer\u001b[49m\u001b[43m(\u001b[49m\n\u001b[32m    713\u001b[39m \u001b[43m    \u001b[49m\u001b[43mqubits\u001b[49m\u001b[43m,\u001b[49m\n\u001b[32m    714\u001b[39m \u001b[43m    \u001b[49m\u001b[43mclbits\u001b[49m\u001b[43m,\u001b[49m\n\u001b[32m    715\u001b[39m \u001b[43m    \u001b[49m\u001b[43mnodes\u001b[49m\u001b[43m,\u001b[49m\n\u001b[32m    716\u001b[39m \u001b[43m    \u001b[49m\u001b[43mcircuit\u001b[49m\u001b[43m,\u001b[49m\n\u001b[32m    717\u001b[39m \u001b[43m    \u001b[49m\u001b[43mscale\u001b[49m\u001b[43m=\u001b[49m\u001b[43mscale\u001b[49m\u001b[43m,\u001b[49m\n\u001b[32m    718\u001b[39m \u001b[43m    \u001b[49m\u001b[43mstyle\u001b[49m\u001b[43m=\u001b[49m\u001b[43mstyle\u001b[49m\u001b[43m,\u001b[49m\n\u001b[32m    719\u001b[39m \u001b[43m    \u001b[49m\u001b[43mreverse_bits\u001b[49m\u001b[43m=\u001b[49m\u001b[43mreverse_bits\u001b[49m\u001b[43m,\u001b[49m\n\u001b[32m    720\u001b[39m \u001b[43m    \u001b[49m\u001b[43mplot_barriers\u001b[49m\u001b[43m=\u001b[49m\u001b[43mplot_barriers\u001b[49m\u001b[43m,\u001b[49m\n\u001b[32m    721\u001b[39m \u001b[43m    \u001b[49m\u001b[43mfold\u001b[49m\u001b[43m=\u001b[49m\u001b[43mfold\u001b[49m\u001b[43m,\u001b[49m\n\u001b[32m    722\u001b[39m \u001b[43m    \u001b[49m\u001b[43max\u001b[49m\u001b[43m=\u001b[49m\u001b[43max\u001b[49m\u001b[43m,\u001b[49m\n\u001b[32m    723\u001b[39m \u001b[43m    \u001b[49m\u001b[43minitial_state\u001b[49m\u001b[43m=\u001b[49m\u001b[43minitial_state\u001b[49m\u001b[43m,\u001b[49m\n\u001b[32m    724\u001b[39m \u001b[43m    \u001b[49m\u001b[43mcregbundle\u001b[49m\u001b[43m=\u001b[49m\u001b[43mcregbundle\u001b[49m\u001b[43m,\u001b[49m\n\u001b[32m    725\u001b[39m \u001b[43m    \u001b[49m\u001b[43mwith_layout\u001b[49m\u001b[43m=\u001b[49m\u001b[43mwith_layout\u001b[49m\u001b[43m,\u001b[49m\n\u001b[32m    726\u001b[39m \u001b[43m    \u001b[49m\u001b[43mexpr_len\u001b[49m\u001b[43m=\u001b[49m\u001b[43mexpr_len\u001b[49m\u001b[43m,\u001b[49m\n\u001b[32m    727\u001b[39m \u001b[43m\u001b[49m\u001b[43m)\u001b[49m\n\u001b[32m    728\u001b[39m \u001b[38;5;28;01mreturn\u001b[39;00m qcd.draw(filename)\n",
      "\u001b[36mFile \u001b[39m\u001b[32mc:\\Users\\Cayly\\Documents\\classes\\intp302\\quantumnumbers\\.venv\\Lib\\site-packages\\qiskit\\utils\\classtools.py:111\u001b[39m, in \u001b[36m_WrappedMethod.__get__.<locals>.out\u001b[39m\u001b[34m(*args, **kwargs)\u001b[39m\n\u001b[32m    108\u001b[39m \u001b[38;5;129m@functools\u001b[39m.wraps(method)\n\u001b[32m    109\u001b[39m \u001b[38;5;28;01mdef\u001b[39;00m\u001b[38;5;250m \u001b[39m\u001b[34mout\u001b[39m(*args, **kwargs):\n\u001b[32m    110\u001b[39m     \u001b[38;5;28;01mfor\u001b[39;00m callback \u001b[38;5;129;01min\u001b[39;00m \u001b[38;5;28mself\u001b[39m._before:\n\u001b[32m--> \u001b[39m\u001b[32m111\u001b[39m         \u001b[43mcallback\u001b[49m\u001b[43m.\u001b[49m\u001b[34;43m__get__\u001b[39;49m\u001b[43m(\u001b[49m\u001b[43mobj\u001b[49m\u001b[43m,\u001b[49m\u001b[43m \u001b[49m\u001b[43mobjtype\u001b[49m\u001b[43m)\u001b[49m\u001b[43m(\u001b[49m\u001b[43m*\u001b[49m\u001b[43margs\u001b[49m\u001b[43m,\u001b[49m\u001b[43m \u001b[49m\u001b[43m*\u001b[49m\u001b[43m*\u001b[49m\u001b[43mkwargs\u001b[49m\u001b[43m)\u001b[49m\n\u001b[32m    112\u001b[39m     retval = method(*args, **kwargs)\n\u001b[32m    113\u001b[39m     \u001b[38;5;28;01mfor\u001b[39;00m callback \u001b[38;5;129;01min\u001b[39;00m \u001b[38;5;28mself\u001b[39m._after:\n",
      "\u001b[36mFile \u001b[39m\u001b[32mc:\\Users\\Cayly\\Documents\\classes\\intp302\\quantumnumbers\\.venv\\Lib\\site-packages\\qiskit\\utils\\lazy_tester.py:41\u001b[39m, in \u001b[36m_RequireNow.__call__\u001b[39m\u001b[34m(self, *_args, **_kwargs)\u001b[39m\n\u001b[32m     40\u001b[39m \u001b[38;5;28;01mdef\u001b[39;00m\u001b[38;5;250m \u001b[39m\u001b[34m__call__\u001b[39m(\u001b[38;5;28mself\u001b[39m, *_args, **_kwargs):\n\u001b[32m---> \u001b[39m\u001b[32m41\u001b[39m     \u001b[38;5;28;43mself\u001b[39;49m\u001b[43m.\u001b[49m\u001b[43m_tester\u001b[49m\u001b[43m.\u001b[49m\u001b[43mrequire_now\u001b[49m\u001b[43m(\u001b[49m\u001b[38;5;28;43mself\u001b[39;49m\u001b[43m.\u001b[49m\u001b[43m_feature\u001b[49m\u001b[43m)\u001b[49m\n",
      "\u001b[36mFile \u001b[39m\u001b[32mc:\\Users\\Cayly\\Documents\\classes\\intp302\\quantumnumbers\\.venv\\Lib\\site-packages\\qiskit\\utils\\lazy_tester.py:221\u001b[39m, in \u001b[36mLazyDependencyManager.require_now\u001b[39m\u001b[34m(self, feature)\u001b[39m\n\u001b[32m    219\u001b[39m \u001b[38;5;28;01mif\u001b[39;00m \u001b[38;5;28mself\u001b[39m:\n\u001b[32m    220\u001b[39m     \u001b[38;5;28;01mreturn\u001b[39;00m\n\u001b[32m--> \u001b[39m\u001b[32m221\u001b[39m \u001b[38;5;28;01mraise\u001b[39;00m MissingOptionalLibraryError(\n\u001b[32m    222\u001b[39m     libname=\u001b[38;5;28mself\u001b[39m._name, name=feature, pip_install=\u001b[38;5;28mself\u001b[39m._install, msg=\u001b[38;5;28mself\u001b[39m._msg\n\u001b[32m    223\u001b[39m )\n",
      "\u001b[31mMissingOptionalLibraryError\u001b[39m: \"The 'matplotlib' library is required to use 'MatplotlibDrawer'. You can install it with 'pip install matplotlib'.\""
     ]
    }
   ],
   "source": [
    "from qiskit import QuantumCircuit, transpile\n",
    "from qiskit_aer import Aer\n",
    "from qiskit.visualization import plot_histogram\n",
    "\n",
    "# Create your first quantum circuit\n",
    "qc = QuantumCircuit(1, 1)  # 1 qubit, 1 classical bit\n",
    "qc.h(0)  # Apply Hadamard gate\n",
    "qc.measure(0, 0)  # Measure qubit 0 into classical bit 0\n",
    "\n",
    "# Draw the circuit\n",
    "qc.draw('mpl')  # Use 'mpl' for a better visualization\n"
   ]
  }
 ],
 "metadata": {
  "kernelspec": {
   "display_name": ".venv",
   "language": "python",
   "name": "python3"
  },
  "language_info": {
   "codemirror_mode": {
    "name": "ipython",
    "version": 3
   },
   "file_extension": ".py",
   "mimetype": "text/x-python",
   "name": "python",
   "nbconvert_exporter": "python",
   "pygments_lexer": "ipython3",
   "version": "3.13.2"
  }
 },
 "nbformat": 4,
 "nbformat_minor": 2
}
