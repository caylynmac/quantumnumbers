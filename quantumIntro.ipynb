{
 "cells": [
  {
   "cell_type": "code",
   "execution_count": 3,
   "metadata": {},
   "outputs": [
    {
     "name": "stdout",
     "output_type": "stream",
     "text": [
      "Requirement already satisfied: qiskit in c:\\users\\cayly\\documents\\classes\\intp302\\quantumnumbers\\.venv\\lib\\site-packages (1.4.2)\n",
      "Requirement already satisfied: rustworkx>=0.15.0 in c:\\users\\cayly\\documents\\classes\\intp302\\quantumnumbers\\.venv\\lib\\site-packages (from qiskit) (0.16.0)\n",
      "Requirement already satisfied: numpy<3,>=1.17 in c:\\users\\cayly\\documents\\classes\\intp302\\quantumnumbers\\.venv\\lib\\site-packages (from qiskit) (2.2.4)\n",
      "Requirement already satisfied: scipy>=1.5 in c:\\users\\cayly\\documents\\classes\\intp302\\quantumnumbers\\.venv\\lib\\site-packages (from qiskit) (1.15.2)\n",
      "Requirement already satisfied: sympy>=1.3 in c:\\users\\cayly\\documents\\classes\\intp302\\quantumnumbers\\.venv\\lib\\site-packages (from qiskit) (1.13.3)\n",
      "Requirement already satisfied: dill>=0.3 in c:\\users\\cayly\\documents\\classes\\intp302\\quantumnumbers\\.venv\\lib\\site-packages (from qiskit) (0.3.9)\n",
      "Requirement already satisfied: python-dateutil>=2.8.0 in c:\\users\\cayly\\documents\\classes\\intp302\\quantumnumbers\\.venv\\lib\\site-packages (from qiskit) (2.9.0.post0)\n",
      "Requirement already satisfied: stevedore>=3.0.0 in c:\\users\\cayly\\documents\\classes\\intp302\\quantumnumbers\\.venv\\lib\\site-packages (from qiskit) (5.4.1)\n",
      "Requirement already satisfied: typing-extensions in c:\\users\\cayly\\documents\\classes\\intp302\\quantumnumbers\\.venv\\lib\\site-packages (from qiskit) (4.13.0)\n",
      "Requirement already satisfied: symengine<0.14,>=0.11 in c:\\users\\cayly\\documents\\classes\\intp302\\quantumnumbers\\.venv\\lib\\site-packages (from qiskit) (0.13.0)\n",
      "Requirement already satisfied: six>=1.5 in c:\\users\\cayly\\documents\\classes\\intp302\\quantumnumbers\\.venv\\lib\\site-packages (from python-dateutil>=2.8.0->qiskit) (1.17.0)\n",
      "Requirement already satisfied: pbr>=2.0.0 in c:\\users\\cayly\\documents\\classes\\intp302\\quantumnumbers\\.venv\\lib\\site-packages (from stevedore>=3.0.0->qiskit) (6.1.1)\n",
      "Requirement already satisfied: mpmath<1.4,>=1.1.0 in c:\\users\\cayly\\documents\\classes\\intp302\\quantumnumbers\\.venv\\lib\\site-packages (from sympy>=1.3->qiskit) (1.3.0)\n",
      "Requirement already satisfied: setuptools in c:\\users\\cayly\\documents\\classes\\intp302\\quantumnumbers\\.venv\\lib\\site-packages (from pbr>=2.0.0->stevedore>=3.0.0->qiskit) (78.1.0)\n",
      "Note: you may need to restart the kernel to use updated packages.\n",
      "Requirement already satisfied: matplotlib in c:\\users\\cayly\\documents\\classes\\intp302\\quantumnumbers\\.venv\\lib\\site-packages (3.10.1)\n",
      "Requirement already satisfied: contourpy>=1.0.1 in c:\\users\\cayly\\documents\\classes\\intp302\\quantumnumbers\\.venv\\lib\\site-packages (from matplotlib) (1.3.1)\n",
      "Requirement already satisfied: cycler>=0.10 in c:\\users\\cayly\\documents\\classes\\intp302\\quantumnumbers\\.venv\\lib\\site-packages (from matplotlib) (0.12.1)\n",
      "Requirement already satisfied: fonttools>=4.22.0 in c:\\users\\cayly\\documents\\classes\\intp302\\quantumnumbers\\.venv\\lib\\site-packages (from matplotlib) (4.56.0)\n",
      "Requirement already satisfied: kiwisolver>=1.3.1 in c:\\users\\cayly\\documents\\classes\\intp302\\quantumnumbers\\.venv\\lib\\site-packages (from matplotlib) (1.4.8)\n",
      "Requirement already satisfied: numpy>=1.23 in c:\\users\\cayly\\documents\\classes\\intp302\\quantumnumbers\\.venv\\lib\\site-packages (from matplotlib) (2.2.4)\n",
      "Requirement already satisfied: packaging>=20.0 in c:\\users\\cayly\\documents\\classes\\intp302\\quantumnumbers\\.venv\\lib\\site-packages (from matplotlib) (24.2)\n",
      "Requirement already satisfied: pillow>=8 in c:\\users\\cayly\\documents\\classes\\intp302\\quantumnumbers\\.venv\\lib\\site-packages (from matplotlib) (11.1.0)\n",
      "Requirement already satisfied: pyparsing>=2.3.1 in c:\\users\\cayly\\documents\\classes\\intp302\\quantumnumbers\\.venv\\lib\\site-packages (from matplotlib) (3.2.3)\n",
      "Requirement already satisfied: python-dateutil>=2.7 in c:\\users\\cayly\\documents\\classes\\intp302\\quantumnumbers\\.venv\\lib\\site-packages (from matplotlib) (2.9.0.post0)\n",
      "Requirement already satisfied: six>=1.5 in c:\\users\\cayly\\documents\\classes\\intp302\\quantumnumbers\\.venv\\lib\\site-packages (from python-dateutil>=2.7->matplotlib) (1.17.0)\n",
      "Note: you may need to restart the kernel to use updated packages.\n",
      "Requirement already satisfied: qiskit-aer in c:\\users\\cayly\\documents\\classes\\intp302\\quantumnumbers\\.venv\\lib\\site-packages (0.17.0)\n",
      "Requirement already satisfied: qiskit>=1.1.0 in c:\\users\\cayly\\documents\\classes\\intp302\\quantumnumbers\\.venv\\lib\\site-packages (from qiskit-aer) (1.4.2)\n",
      "Requirement already satisfied: numpy>=1.16.3 in c:\\users\\cayly\\documents\\classes\\intp302\\quantumnumbers\\.venv\\lib\\site-packages (from qiskit-aer) (2.2.4)\n",
      "Requirement already satisfied: scipy>=1.0 in c:\\users\\cayly\\documents\\classes\\intp302\\quantumnumbers\\.venv\\lib\\site-packages (from qiskit-aer) (1.15.2)\n",
      "Requirement already satisfied: psutil>=5 in c:\\users\\cayly\\documents\\classes\\intp302\\quantumnumbers\\.venv\\lib\\site-packages (from qiskit-aer) (7.0.0)\n",
      "Requirement already satisfied: rustworkx>=0.15.0 in c:\\users\\cayly\\documents\\classes\\intp302\\quantumnumbers\\.venv\\lib\\site-packages (from qiskit>=1.1.0->qiskit-aer) (0.16.0)\n",
      "Requirement already satisfied: sympy>=1.3 in c:\\users\\cayly\\documents\\classes\\intp302\\quantumnumbers\\.venv\\lib\\site-packages (from qiskit>=1.1.0->qiskit-aer) (1.13.3)\n",
      "Requirement already satisfied: dill>=0.3 in c:\\users\\cayly\\documents\\classes\\intp302\\quantumnumbers\\.venv\\lib\\site-packages (from qiskit>=1.1.0->qiskit-aer) (0.3.9)\n",
      "Requirement already satisfied: python-dateutil>=2.8.0 in c:\\users\\cayly\\documents\\classes\\intp302\\quantumnumbers\\.venv\\lib\\site-packages (from qiskit>=1.1.0->qiskit-aer) (2.9.0.post0)\n",
      "Requirement already satisfied: stevedore>=3.0.0 in c:\\users\\cayly\\documents\\classes\\intp302\\quantumnumbers\\.venv\\lib\\site-packages (from qiskit>=1.1.0->qiskit-aer) (5.4.1)\n",
      "Requirement already satisfied: typing-extensions in c:\\users\\cayly\\documents\\classes\\intp302\\quantumnumbers\\.venv\\lib\\site-packages (from qiskit>=1.1.0->qiskit-aer) (4.13.0)\n",
      "Requirement already satisfied: symengine<0.14,>=0.11 in c:\\users\\cayly\\documents\\classes\\intp302\\quantumnumbers\\.venv\\lib\\site-packages (from qiskit>=1.1.0->qiskit-aer) (0.13.0)\n",
      "Requirement already satisfied: six>=1.5 in c:\\users\\cayly\\documents\\classes\\intp302\\quantumnumbers\\.venv\\lib\\site-packages (from python-dateutil>=2.8.0->qiskit>=1.1.0->qiskit-aer) (1.17.0)\n",
      "Requirement already satisfied: pbr>=2.0.0 in c:\\users\\cayly\\documents\\classes\\intp302\\quantumnumbers\\.venv\\lib\\site-packages (from stevedore>=3.0.0->qiskit>=1.1.0->qiskit-aer) (6.1.1)\n",
      "Requirement already satisfied: mpmath<1.4,>=1.1.0 in c:\\users\\cayly\\documents\\classes\\intp302\\quantumnumbers\\.venv\\lib\\site-packages (from sympy>=1.3->qiskit>=1.1.0->qiskit-aer) (1.3.0)\n",
      "Requirement already satisfied: setuptools in c:\\users\\cayly\\documents\\classes\\intp302\\quantumnumbers\\.venv\\lib\\site-packages (from pbr>=2.0.0->stevedore>=3.0.0->qiskit>=1.1.0->qiskit-aer) (78.1.0)\n",
      "Note: you may need to restart the kernel to use updated packages.\n",
      "Requirement already satisfied: pylatexenc in c:\\users\\cayly\\documents\\classes\\intp302\\quantumnumbers\\.venv\\lib\\site-packages (2.10)\n",
      "Note: you may need to restart the kernel to use updated packages.\n"
     ]
    }
   ],
   "source": [
    "%pip install qiskit\n",
    "%pip install matplotlib\n",
    "%pip install qiskit-aer\n",
    "%pip install pylatexenc\n"
   ]
  },
  {
   "cell_type": "code",
   "execution_count": 1,
   "metadata": {},
   "outputs": [
    {
     "data": {
      "image/png": "[encoded data removed]",
      "text/plain": [
       "<Figure size 269.064x200.667 with 1 Axes>"
      ]
     },
     "execution_count": 1,
     "metadata": {},
     "output_type": "execute_result"
    }
   ],
   "source": [
    "from qiskit import QuantumCircuit, transpile\n",
    "from qiskit_aer import Aer\n",
    "from qiskit.visualization import plot_histogram\n",
    "\n",
    "# Create your first quantum circuit\n",
    "qc = QuantumCircuit(1, 1)  # 1 qubit, 1 classical bit\n",
    "qc.h(0)  # Apply Hadamard gate\n",
    "qc.measure(0, 0)  # Measure qubit 0 into classical bit 0\n",
    "\n",
    "# Draw the circuit\n",
    "qc.draw('mpl')  # Use 'mpl' for a better visualization\n"
   ]
  },
  {
   "cell_type": "code",
   "execution_count": 2,
   "metadata": {},
   "outputs": [
    {
     "data": {
      "text/html": [
       "<pre style=\"word-wrap: normal;white-space: pre;background: #fff0;line-height: 1.1;font-family: &quot;Courier New&quot;,Courier,monospace\">     ┌───┐┌───┐┌─┐\n",
       "  q: ┤ X ├┤ H ├┤M├\n",
       "     └───┘└───┘└╥┘\n",
       "c: 1/═══════════╩═\n",
       "                0 </pre>"
      ],
      "text/plain": [
       "     ┌───┐┌───┐┌─┐\n",
       "  q: ┤ X ├┤ H ├┤M├\n",
       "     └───┘└───┘└╥┘\n",
       "c: 1/═══════════╩═\n",
       "                0 "
      ]
     },
     "execution_count": 2,
     "metadata": {},
     "output_type": "execute_result"
    }
   ],
   "source": [
    "# Create a circuit to experiment with gates\n",
    "qc = QuantumCircuit(1, 1)\n",
    "\n",
    "# X gate (NOT gate)\n",
    "qc.x(0)\n",
    "\n",
    "# H gate (Hadamard)\n",
    "qc.h(0)\n",
    "\n",
    "# Measure\n",
    "qc.measure(0, 0)\n",
    "\n",
    "# Visualize\n",
    "qc.draw()\n"
   ]
  },
  {
   "cell_type": "code",
   "execution_count": 9,
   "metadata": {},
   "outputs": [
    {
     "name": "stdout",
     "output_type": "stream",
     "text": [
      "{'0': 512, '1': 512}\n"
     ]
    },
    {
     "data": {
      "image/png": "[encoded data removed]",
      "text/plain": [
       "<Figure size 640x480 with 1 Axes>"
      ]
     },
     "execution_count": 9,
     "metadata": {},
     "output_type": "execute_result"
    }
   ],
   "source": [
    "# Create a quantum circuit with 1 qubit and 1 classical bit\n",
    "qc = QuantumCircuit(1, 1)\n",
    "qc.h(0)  # Apply Hadamard gate\n",
    "qc.x(0)  # Apply X gate (NOT gate)\n",
    "qc.measure(0, 0)  # Measure the qubit\n",
    "\n",
    "# Select a quantum simulator backend\n",
    "simulator = Aer.get_backend('qasm_simulator')\n",
    "\n",
    "# Transpile the circuit for the simulator (optimizes for backend)\n",
    "qc_transpiled = transpile(qc, simulator)\n",
    "\n",
    "# Run the transpiled circuit\n",
    "job = simulator.run(qc_transpiled, shots=1024)\n",
    "\n",
    "# Get results\n",
    "results = job.result()\n",
    "counts = results.get_counts()\n",
    "\n",
    "# Print results and show histogram\n",
    "print(counts)\n",
    "plot_histogram(counts)\n",
    "\n"
   ]
  },
  {
   "cell_type": "code",
   "execution_count": 10,
   "metadata": {},
   "outputs": [
    {
     "name": "stdout",
     "output_type": "stream",
     "text": [
      "[1, 0, 1, 0, 0, 0, 1, 1, 1, 1]\n"
     ]
    }
   ],
   "source": [
    "def generate_random_bit():\n",
    "    qc = QuantumCircuit(1, 1)\n",
    "    qc.h(0)\n",
    "    qc.measure(0, 0)\n",
    "    \n",
    "    simulator = Aer.get_backend('qasm_simulator')\n",
    "\n",
    "    qc_transpiled = transpile(qc, simulator)\n",
    "\n",
    "    job = simulator.run(qc_transpiled, shots=1024)\n",
    "\n",
    "    # Get results\n",
    "    results = job.result()\n",
    "    counts = results.get_counts()\n",
    "    return int(list(counts.keys())[0])\n",
    "   \n",
    "# Generate 10 random bits\n",
    "random_bits = [generate_random_bit() for _ in range(10)]\n",
    "print(random_bits)"
   ]
  }
 ],
 "metadata": {
  "kernelspec": {
   "display_name": ".venv",
   "language": "python",
   "name": "python3"
  },
  "language_info": {
   "codemirror_mode": {
    "name": "ipython",
    "version": 3
   },
   "file_extension": ".py",
   "mimetype": "text/x-python",
   "name": "python",
   "nbconvert_exporter": "python",
   "pygments_lexer": "ipython3",
   "version": "3.13.2"
  }
 },
 "nbformat": 4,
 "nbformat_minor": 2
}
